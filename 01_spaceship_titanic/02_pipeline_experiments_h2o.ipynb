{
 "cells": [
  {
   "cell_type": "markdown",
   "metadata": {},
   "source": [
    "Imports"
   ]
  },
  {
   "cell_type": "code",
   "execution_count": 1,
   "metadata": {},
   "outputs": [
    {
     "name": "stdout",
     "output_type": "stream",
     "text": [
      "Checking whether there is an H2O instance running at http://localhost:54321..... not found.\n",
      "Attempting to start a local H2O server...\n",
      "  Java Version: openjdk version \"11.0.20.1\" 2023-08-24; OpenJDK Runtime Environment (build 11.0.20.1+1-post-Ubuntu-0ubuntu120.04); OpenJDK 64-Bit Server VM (build 11.0.20.1+1-post-Ubuntu-0ubuntu120.04, mixed mode, sharing)\n",
      "  Starting server from /usr/local/lib/python3.8/dist-packages/h2o/backend/bin/h2o.jar\n",
      "  Ice root: /tmp/tmpw_px8y74\n",
      "  JVM stdout: /tmp/tmpw_px8y74/h2o_unknownUser_started_from_python.out\n",
      "  JVM stderr: /tmp/tmpw_px8y74/h2o_unknownUser_started_from_python.err\n",
      "  Server is running at http://127.0.0.1:54321\n",
      "Connecting to H2O server at http://127.0.0.1:54321 ... successful.\n"
     ]
    },
    {
     "data": {
      "text/html": [
       "\n",
       "<style>\n",
       "\n",
       "#h2o-table-1.h2o-container {\n",
       "  overflow-x: auto;\n",
       "}\n",
       "#h2o-table-1 .h2o-table {\n",
       "  /* width: 100%; */\n",
       "  margin-top: 1em;\n",
       "  margin-bottom: 1em;\n",
       "}\n",
       "#h2o-table-1 .h2o-table caption {\n",
       "  white-space: nowrap;\n",
       "  caption-side: top;\n",
       "  text-align: left;\n",
       "  /* margin-left: 1em; */\n",
       "  margin: 0;\n",
       "  font-size: larger;\n",
       "}\n",
       "#h2o-table-1 .h2o-table thead {\n",
       "  white-space: nowrap; \n",
       "  position: sticky;\n",
       "  top: 0;\n",
       "  box-shadow: 0 -1px inset;\n",
       "}\n",
       "#h2o-table-1 .h2o-table tbody {\n",
       "  overflow: auto;\n",
       "}\n",
       "#h2o-table-1 .h2o-table th,\n",
       "#h2o-table-1 .h2o-table td {\n",
       "  text-align: right;\n",
       "  /* border: 1px solid; */\n",
       "}\n",
       "#h2o-table-1 .h2o-table tr:nth-child(even) {\n",
       "  /* background: #F5F5F5 */\n",
       "}\n",
       "\n",
       "</style>      \n",
       "<div id=\"h2o-table-1\" class=\"h2o-container\">\n",
       "  <table class=\"h2o-table\">\n",
       "    <caption></caption>\n",
       "    <thead></thead>\n",
       "    <tbody><tr><td>H2O_cluster_uptime:</td>\n",
       "<td>02 secs</td></tr>\n",
       "<tr><td>H2O_cluster_timezone:</td>\n",
       "<td>Etc/GMT</td></tr>\n",
       "<tr><td>H2O_data_parsing_timezone:</td>\n",
       "<td>UTC</td></tr>\n",
       "<tr><td>H2O_cluster_version:</td>\n",
       "<td>3.42.0.3</td></tr>\n",
       "<tr><td>H2O_cluster_version_age:</td>\n",
       "<td>18 days</td></tr>\n",
       "<tr><td>H2O_cluster_name:</td>\n",
       "<td>H2O_from_python_unknownUser_3non7r</td></tr>\n",
       "<tr><td>H2O_cluster_total_nodes:</td>\n",
       "<td>1</td></tr>\n",
       "<tr><td>H2O_cluster_free_memory:</td>\n",
       "<td>7.742 Gb</td></tr>\n",
       "<tr><td>H2O_cluster_total_cores:</td>\n",
       "<td>12</td></tr>\n",
       "<tr><td>H2O_cluster_allowed_cores:</td>\n",
       "<td>12</td></tr>\n",
       "<tr><td>H2O_cluster_status:</td>\n",
       "<td>locked, healthy</td></tr>\n",
       "<tr><td>H2O_connection_url:</td>\n",
       "<td>http://127.0.0.1:54321</td></tr>\n",
       "<tr><td>H2O_connection_proxy:</td>\n",
       "<td>{\"http\": null, \"https\": null}</td></tr>\n",
       "<tr><td>H2O_internal_security:</td>\n",
       "<td>False</td></tr>\n",
       "<tr><td>Python_version:</td>\n",
       "<td>3.8.10 final</td></tr></tbody>\n",
       "  </table>\n",
       "</div>\n"
      ],
      "text/plain": [
       "--------------------------  ----------------------------------\n",
       "H2O_cluster_uptime:         02 secs\n",
       "H2O_cluster_timezone:       Etc/GMT\n",
       "H2O_data_parsing_timezone:  UTC\n",
       "H2O_cluster_version:        3.42.0.3\n",
       "H2O_cluster_version_age:    18 days\n",
       "H2O_cluster_name:           H2O_from_python_unknownUser_3non7r\n",
       "H2O_cluster_total_nodes:    1\n",
       "H2O_cluster_free_memory:    7.742 Gb\n",
       "H2O_cluster_total_cores:    12\n",
       "H2O_cluster_allowed_cores:  12\n",
       "H2O_cluster_status:         locked, healthy\n",
       "H2O_connection_url:         http://127.0.0.1:54321\n",
       "H2O_connection_proxy:       {\"http\": null, \"https\": null}\n",
       "H2O_internal_security:      False\n",
       "Python_version:             3.8.10 final\n",
       "--------------------------  ----------------------------------"
      ]
     },
     "metadata": {},
     "output_type": "display_data"
    }
   ],
   "source": [
    "# imports\n",
    "import warnings\n",
    "import pandas as pd\n",
    "import yaml\n",
    "import mlflow\n",
    "\n",
    "import h2o\n",
    "from h2o.automl import H2OAutoML\n",
    "from h2o.estimators.gbm import H2OGradientBoostingEstimator\n",
    "from h2o.grid.grid_search import H2OGridSearch\n",
    "from src.preprocess import Preprocessor\n",
    "\n",
    "# configuration\n",
    "h2o.init()\n",
    "pd.set_option('display.max_columns', None)\n",
    "warnings.simplefilter(action='ignore', category=UserWarning)\n"
   ]
  },
  {
   "cell_type": "markdown",
   "metadata": {},
   "source": [
    "Load config"
   ]
  },
  {
   "cell_type": "code",
   "execution_count": 2,
   "metadata": {},
   "outputs": [],
   "source": [
    "# config:\n",
    "with open('config.yml', 'r') as config_file:\n",
    "    CONFIG = yaml.safe_load(config_file)\n",
    "\n",
    "RANDOM_STATE = CONFIG['MAIN_CONFIG']['RANDOM_STATE']\n",
    "H20_MAX_RUNTIME = CONFIG['MAIN_CONFIG']['H2O_MAX_RUNTIME']\n",
    "H20_MAX_MODELS = CONFIG['MAIN_CONFIG']['H2O_MAX_MODELS']\n",
    "PIPELINE_VERSION = CONFIG['MAIN_CONFIG']['VERSION']\n",
    "PROJECT_NAME = CONFIG['MAIN_CONFIG']['PROJECT_NAME']"
   ]
  },
  {
   "cell_type": "markdown",
   "metadata": {},
   "source": [
    "Configure mlflow"
   ]
  },
  {
   "cell_type": "code",
   "execution_count": 3,
   "metadata": {},
   "outputs": [
    {
     "name": "stdout",
     "output_type": "stream",
     "text": [
      "The connection to the MLflow server has been established. http://172.28.0.3:5000\n"
     ]
    },
    {
     "name": "stderr",
     "output_type": "stream",
     "text": [
      "2023/09/10 15:48:10 WARNING mlflow.utils.git_utils: Failed to import Git (the Git executable is probably not on your PATH), so Git SHA is not available. Error: Failed to initialize: Bad git executable.\n",
      "The git executable must be specified in one of the following ways:\n",
      "    - be included in your $PATH\n",
      "    - be set via $GIT_PYTHON_GIT_EXECUTABLE\n",
      "    - explicitly set via git.refresh()\n",
      "\n",
      "All git commands will error until this is rectified.\n",
      "\n",
      "This initial warning can be silenced or aggravated in the future by setting the\n",
      "$GIT_PYTHON_REFRESH environment variable. Use one of the following values:\n",
      "    - quiet|q|silence|s|none|n|0: for no warning or exception\n",
      "    - warn|w|warning|1: for a printed warning\n",
      "    - error|e|raise|r|2: for a raised exception\n",
      "\n",
      "Example:\n",
      "    export GIT_PYTHON_REFRESH=quiet\n",
      "\n"
     ]
    }
   ],
   "source": [
    "mlflow_url = \"http://172.28.0.3:5000\" # adjust this ip number, or use localhost:5000\n",
    "mlflow.set_tracking_uri(mlflow_url)\n",
    "\n",
    "if mlflow.is_tracking_uri_set():\n",
    "    print(f\"The connection to the MLflow server has been established. {mlflow.get_tracking_uri()}\")\n",
    "else:\n",
    "    print(\"Failed to connect to the MLflow server.\")\n",
    "\n",
    "\n",
    "mlflow.end_run()\n",
    "mlflow.set_experiment(PROJECT_NAME)\n",
    "mlflow.start_run()\n",
    "\n",
    "# log parameters from config\n",
    "for key, value in CONFIG['MAIN_CONFIG'].items():\n",
    "    mlflow.log_param(f'MAIN.{key.lower()}', value)\n",
    "\n",
    "for key, value in CONFIG['PREPROCESS_CONFIG'].items():\n",
    "    mlflow.log_param(f'PREPROCESS.{key.lower()}', value)\n",
    "\n",
    "# log config\n",
    "mlflow.log_artifact('config.yml')"
   ]
  },
  {
   "cell_type": "markdown",
   "metadata": {},
   "source": [
    "Load and split data data"
   ]
  },
  {
   "cell_type": "code",
   "execution_count": 4,
   "metadata": {},
   "outputs": [
    {
     "name": "stdout",
     "output_type": "stream",
     "text": [
      "X shape: (8693, 13)\n",
      "y shape: (8693,)\n",
      "X_test shape: (4277, 13)\n"
     ]
    }
   ],
   "source": [
    "# Load the training data\n",
    "train_data = pd.read_csv('data/train.csv')\n",
    "X = train_data.drop(columns=['Transported'])\n",
    "y = train_data['Transported']\n",
    "\n",
    "# Load the test data\n",
    "X_test = pd.read_csv('data/test.csv')\n",
    "\n",
    "# Print shapes\n",
    "print(\"X shape:\", X.shape)\n",
    "print(\"y shape:\", y.shape)\n",
    "print(\"X_test shape:\", X_test.shape)"
   ]
  },
  {
   "cell_type": "markdown",
   "metadata": {},
   "source": [
    "### Preprocessing"
   ]
  },
  {
   "cell_type": "code",
   "execution_count": 5,
   "metadata": {},
   "outputs": [
    {
     "name": "stdout",
     "output_type": "stream",
     "text": [
      "df input shape: (8693, 13)\n",
      "\n",
      "na fill log:\n",
      "\n",
      "                  action  filled_values_num  remaining_na_in_df\n",
      "0  VIP_FROM_AGE_TRESHOLD                197                2325\n",
      "\n",
      "Missing summary:\n",
      "\n",
      "              Total Missing  Percent (%)\n",
      "CryoSleep               217     2.496261\n",
      "ShoppingMall            208     2.392730\n",
      "HomePlanet              201     2.312205\n",
      "CabinSide               199     2.289198\n",
      "CabinNum                199     2.289198\n",
      "CabinDeck               199     2.289198\n",
      "VRDeck                  188     2.162660\n",
      "Spa                     183     2.105142\n",
      "FoodCourt               183     2.105142\n",
      "Destination             182     2.093639\n",
      "RoomService             181     2.082135\n",
      "Age                     179     2.059128\n",
      "VIP                       6     0.069021\n",
      "GroupNum                  0     0.000000\n",
      "GroupSize                 0     0.000000\n",
      "Alone                     0     0.000000\n",
      "WithFamily                0     0.000000\n",
      "df after preprocessing shape: (8693, 17)\n"
     ]
    }
   ],
   "source": [
    "# preprocess train data\n",
    "preprocessor = Preprocessor(CONFIG)\n",
    "X_train_processed = preprocessor.process(X)"
   ]
  },
  {
   "cell_type": "code",
   "execution_count": 6,
   "metadata": {},
   "outputs": [
    {
     "name": "stdout",
     "output_type": "stream",
     "text": [
      "df input shape: (4277, 13)\n"
     ]
    },
    {
     "name": "stdout",
     "output_type": "stream",
     "text": [
      "\n",
      "na fill log:\n",
      "\n",
      "                  action  filled_values_num  remaining_na_in_df\n",
      "0  VIP_FROM_AGE_TRESHOLD                 90                1133\n",
      "\n",
      "Missing summary:\n",
      "\n",
      "              Total Missing  Percent (%)\n",
      "FoodCourt               106     2.478373\n",
      "Spa                     101     2.361468\n",
      "CabinDeck               100     2.338087\n",
      "CabinSide               100     2.338087\n",
      "CabinNum                100     2.338087\n",
      "ShoppingMall             98     2.291326\n",
      "CryoSleep                93     2.174421\n",
      "Destination              92     2.151040\n",
      "Age                      91     2.127660\n",
      "HomePlanet               87     2.034136\n",
      "RoomService              82     1.917232\n",
      "VRDeck                   80     1.870470\n",
      "VIP                       3     0.070143\n",
      "GroupNum                  0     0.000000\n",
      "GroupSize                 0     0.000000\n",
      "Alone                     0     0.000000\n",
      "WithFamily                0     0.000000\n",
      "df after preprocessing shape: (4277, 17)\n"
     ]
    }
   ],
   "source": [
    "# preprocess test data\n",
    "X_test_processed = preprocessor.process(X_test)  "
   ]
  },
  {
   "cell_type": "markdown",
   "metadata": {},
   "source": [
    "### Find best model with h2o automl"
   ]
  },
  {
   "cell_type": "code",
   "execution_count": 7,
   "metadata": {},
   "outputs": [
    {
     "name": "stdout",
     "output_type": "stream",
     "text": [
      "Parse progress: |████████████████████████████████████████████████████████████████| (done) 100%\n",
      "Parse progress: |████████████████████████████████████████████████████████████████| (done) 100%\n",
      "AutoML progress: |███████████████████████████████████████████████████████████████| (done) 100%\n"
     ]
    },
    {
     "data": {
      "text/html": [
       "<table class='dataframe'>\n",
       "<thead>\n",
       "<tr><th>model_id                                               </th><th style=\"text-align: right;\">     auc</th><th style=\"text-align: right;\">  logloss</th><th style=\"text-align: right;\">   aucpr</th><th style=\"text-align: right;\">  mean_per_class_error</th><th style=\"text-align: right;\">    rmse</th><th style=\"text-align: right;\">     mse</th></tr>\n",
       "</thead>\n",
       "<tbody>\n",
       "<tr><td>StackedEnsemble_AllModels_1_AutoML_1_20230910_154812   </td><td style=\"text-align: right;\">0.904785</td><td style=\"text-align: right;\"> 0.379939</td><td style=\"text-align: right;\">0.91746 </td><td style=\"text-align: right;\">              0.191556</td><td style=\"text-align: right;\">0.351232</td><td style=\"text-align: right;\">0.123364</td></tr>\n",
       "<tr><td>StackedEnsemble_BestOfFamily_1_AutoML_1_20230910_154812</td><td style=\"text-align: right;\">0.904455</td><td style=\"text-align: right;\"> 0.3814  </td><td style=\"text-align: right;\">0.916558</td><td style=\"text-align: right;\">              0.188116</td><td style=\"text-align: right;\">0.351756</td><td style=\"text-align: right;\">0.123732</td></tr>\n",
       "<tr><td>GBM_2_AutoML_1_20230910_154812                         </td><td style=\"text-align: right;\">0.901378</td><td style=\"text-align: right;\"> 0.389684</td><td style=\"text-align: right;\">0.91413 </td><td style=\"text-align: right;\">              0.19658 </td><td style=\"text-align: right;\">0.355013</td><td style=\"text-align: right;\">0.126034</td></tr>\n",
       "<tr><td>GBM_1_AutoML_1_20230910_154812                         </td><td style=\"text-align: right;\">0.900877</td><td style=\"text-align: right;\"> 0.389001</td><td style=\"text-align: right;\">0.914494</td><td style=\"text-align: right;\">              0.191859</td><td style=\"text-align: right;\">0.355229</td><td style=\"text-align: right;\">0.126187</td></tr>\n",
       "<tr><td>GBM_grid_1_AutoML_1_20230910_154812_model_1            </td><td style=\"text-align: right;\">0.900045</td><td style=\"text-align: right;\"> 0.392144</td><td style=\"text-align: right;\">0.912759</td><td style=\"text-align: right;\">              0.194423</td><td style=\"text-align: right;\">0.356712</td><td style=\"text-align: right;\">0.127244</td></tr>\n",
       "<tr><td>GBM_3_AutoML_1_20230910_154812                         </td><td style=\"text-align: right;\">0.899358</td><td style=\"text-align: right;\"> 0.39198 </td><td style=\"text-align: right;\">0.912735</td><td style=\"text-align: right;\">              0.195389</td><td style=\"text-align: right;\">0.356628</td><td style=\"text-align: right;\">0.127183</td></tr>\n",
       "<tr><td>GBM_5_AutoML_1_20230910_154812                         </td><td style=\"text-align: right;\">0.899309</td><td style=\"text-align: right;\"> 0.393064</td><td style=\"text-align: right;\">0.912373</td><td style=\"text-align: right;\">              0.195537</td><td style=\"text-align: right;\">0.356981</td><td style=\"text-align: right;\">0.127435</td></tr>\n",
       "<tr><td>XGBoost_3_AutoML_1_20230910_154812                     </td><td style=\"text-align: right;\">0.898576</td><td style=\"text-align: right;\"> 0.393856</td><td style=\"text-align: right;\">0.911878</td><td style=\"text-align: right;\">              0.197692</td><td style=\"text-align: right;\">0.357928</td><td style=\"text-align: right;\">0.128112</td></tr>\n",
       "<tr><td>GBM_grid_1_AutoML_1_20230910_154812_model_2            </td><td style=\"text-align: right;\">0.897381</td><td style=\"text-align: right;\"> 0.398254</td><td style=\"text-align: right;\">0.911287</td><td style=\"text-align: right;\">              0.194733</td><td style=\"text-align: right;\">0.359514</td><td style=\"text-align: right;\">0.12925 </td></tr>\n",
       "<tr><td>GBM_4_AutoML_1_20230910_154812                         </td><td style=\"text-align: right;\">0.897099</td><td style=\"text-align: right;\"> 0.397304</td><td style=\"text-align: right;\">0.911119</td><td style=\"text-align: right;\">              0.199563</td><td style=\"text-align: right;\">0.359319</td><td style=\"text-align: right;\">0.12911 </td></tr>\n",
       "</tbody>\n",
       "</table><pre style='font-size: smaller; margin-bottom: 1em;'>[10 rows x 7 columns]</pre>"
      ],
      "text/plain": [
       "model_id                                                      auc    logloss     aucpr    mean_per_class_error      rmse       mse\n",
       "-------------------------------------------------------  --------  ---------  --------  ----------------------  --------  --------\n",
       "StackedEnsemble_AllModels_1_AutoML_1_20230910_154812     0.904785   0.379939  0.91746                 0.191556  0.351232  0.123364\n",
       "StackedEnsemble_BestOfFamily_1_AutoML_1_20230910_154812  0.904455   0.3814    0.916558                0.188116  0.351756  0.123732\n",
       "GBM_2_AutoML_1_20230910_154812                           0.901378   0.389684  0.91413                 0.19658   0.355013  0.126034\n",
       "GBM_1_AutoML_1_20230910_154812                           0.900877   0.389001  0.914494                0.191859  0.355229  0.126187\n",
       "GBM_grid_1_AutoML_1_20230910_154812_model_1              0.900045   0.392144  0.912759                0.194423  0.356712  0.127244\n",
       "GBM_3_AutoML_1_20230910_154812                           0.899358   0.39198   0.912735                0.195389  0.356628  0.127183\n",
       "GBM_5_AutoML_1_20230910_154812                           0.899309   0.393064  0.912373                0.195537  0.356981  0.127435\n",
       "XGBoost_3_AutoML_1_20230910_154812                       0.898576   0.393856  0.911878                0.197692  0.357928  0.128112\n",
       "GBM_grid_1_AutoML_1_20230910_154812_model_2              0.897381   0.398254  0.911287                0.194733  0.359514  0.12925\n",
       "GBM_4_AutoML_1_20230910_154812                           0.897099   0.397304  0.911119                0.199563  0.359319  0.12911\n",
       "[10 rows x 7 columns]\n"
      ]
     },
     "execution_count": 7,
     "metadata": {},
     "output_type": "execute_result"
    }
   ],
   "source": [
    "# Convert pandas dataframe to H2O Frame\n",
    "hf_train = h2o.H2OFrame(pd.concat([X_train_processed, y], axis=1))\n",
    "hf_test = h2o.H2OFrame(X_test_processed)\n",
    "\n",
    "# Define predictors and response variable\n",
    "y = 'Transported'\n",
    "X = hf_train.columns\n",
    "X.remove(y)\n",
    "\n",
    "# Set up the AutoML parameters\n",
    "aml = H2OAutoML(max_models=H20_MAX_MODELS,\n",
    "                seed=RANDOM_STATE,\n",
    "                # nfolds=H20_NFOLDS, \n",
    "                project_name=PROJECT_NAME,\n",
    "                )\n",
    "\n",
    "# Train the model\n",
    "aml.train(x=X, y=y, training_frame=hf_train, )\n",
    "\n",
    "lb = aml.leaderboard\n",
    "lb_df = lb.as_data_frame()\n",
    "lb_df.to_html('output/h2o_Transported_leaderboard.html')\n",
    "mlflow.log_artifact('output/h2o_Transported_leaderboard.html')\n",
    "\n",
    "lb.head()"
   ]
  },
  {
   "cell_type": "markdown",
   "metadata": {},
   "source": [
    "### Log h2o results"
   ]
  },
  {
   "cell_type": "code",
   "execution_count": 8,
   "metadata": {},
   "outputs": [],
   "source": [
    "# Convert the first row of the DataFrame to a dictionary with columns as keys\n",
    "metrics_dict = lb_df.head(1).to_dict(orient='records')[0]\n",
    "\n",
    "# Now iterate over the metrics and their values\n",
    "for metric, value in metrics_dict.items():\n",
    "    try:\n",
    "        mlflow.log_metric(f'h2o_Transported_{metric}', value)\n",
    "    except:\n",
    "        mlflow.log_param(f'h2o_Transported_{metric}', value)"
   ]
  },
  {
   "cell_type": "markdown",
   "metadata": {},
   "source": [
    "### Generate H2O kaggle submission file"
   ]
  },
  {
   "cell_type": "code",
   "execution_count": 9,
   "metadata": {},
   "outputs": [
    {
     "name": "stdout",
     "output_type": "stream",
     "text": [
      "stackedensemble prediction progress: |"
     ]
    },
    {
     "name": "stdout",
     "output_type": "stream",
     "text": [
      "███████████████████████████████████████████| (done) 100%\n"
     ]
    }
   ],
   "source": [
    "passenger_ids = X_test['PassengerId']\n",
    "submission_template_df = pd.DataFrame({'PassengerId': passenger_ids})\n",
    "\n",
    "submission_h2o = submission_template_df.copy()\n",
    "# Predict on the test set\n",
    "test_predictions_h2o = aml.leader.predict(hf_test)  # Assuming hf_test is your H2O test frame\n",
    "test_predictions_df = h2o.as_list(test_predictions_h2o)\n",
    "\n",
    "# Add predictions to the global dataframe\n",
    "submission_h2o['Transported'] = test_predictions_df['predict'].values\n",
    "\n",
    "# Export to CSV\n",
    "predictions_filename_h2o = f'output/predictions_H20_v{PIPELINE_VERSION}.csv'\n",
    "submission_h2o.to_csv(predictions_filename_h2o, index=False, columns=['PassengerId', 'Transported'])\n",
    "\n",
    "# Log with MLflow\n",
    "mlflow.log_artifact(predictions_filename_h2o)\n"
   ]
  },
  {
   "cell_type": "markdown",
   "metadata": {},
   "source": [
    "Create submission file"
   ]
  },
  {
   "cell_type": "code",
   "execution_count": 10,
   "metadata": {},
   "outputs": [],
   "source": [
    "mlflow.end_run()"
   ]
  },
  {
   "cell_type": "markdown",
   "metadata": {},
   "source": [
    "TODO:"
   ]
  },
  {
   "cell_type": "code",
   "execution_count": 11,
   "metadata": {},
   "outputs": [],
   "source": [
    "# TODO: \n",
    "# Automl/gridsearch H20 to find missing values (combine test and train set) (feature importance for each column)\n",
    "# option to choose only GridSearch / autoML\n",
    "# NN trained on data filled with automl\n",
    "\n",
    "# fill test target with preds with the best confidence, and retrain NN/automl\n"
   ]
  }
 ],
 "metadata": {
  "kernelspec": {
   "display_name": "Python 3",
   "language": "python",
   "name": "python3"
  },
  "language_info": {
   "codemirror_mode": {
    "name": "ipython",
    "version": 3
   },
   "file_extension": ".py",
   "mimetype": "text/x-python",
   "name": "python",
   "nbconvert_exporter": "python",
   "pygments_lexer": "ipython3",
   "version": "3.8.10"
  },
  "orig_nbformat": 4
 },
 "nbformat": 4,
 "nbformat_minor": 2
}
